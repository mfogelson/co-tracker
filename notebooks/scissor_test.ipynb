{
 "cells": [
  {
   "cell_type": "markdown",
   "id": "60a7e08e-93c6-4370-9778-3bb102dce78b",
   "metadata": {},
   "source": [
    "Copyright (c) Meta Platforms, Inc. and affiliates."
   ]
  },
  {
   "cell_type": "markdown",
   "id": "3081cd8f-f6f9-4a1a-8c36-8a857b0c3b03",
   "metadata": {},
   "source": [
    "<a target=\"_blank\" href=\"https://colab.research.google.com/github/facebookresearch/co-tracker/blob/main/notebooks/demo.ipynb\">\n",
    "  <img src=\"https://colab.research.google.com/assets/colab-badge.svg\" alt=\"Open In Colab\"/>\n",
    "</a>"
   ]
  },
  {
   "cell_type": "markdown",
   "id": "f9f3240f-0354-4802-b8b5-9070930fc957",
   "metadata": {},
   "source": [
    "# CoTracker: It is Better to Track Together\n",
    "This is a demo for <a href=\"https://co-tracker.github.io/\">CoTracker</a>, a model that can track any point in a video."
   ]
  },
  {
   "cell_type": "markdown",
   "id": "36ff1fd0-572e-47fb-8221-1e73ac17cfd1",
   "metadata": {},
   "source": [
    "<img src=\"https://www.robots.ox.ac.uk/~nikita/storage/cotracker/bmx-bumps.gif\" alt=\"Logo\" width=\"50%\">"
   ]
  },
  {
   "cell_type": "markdown",
   "id": "88c6db31",
   "metadata": {},
   "source": [
    "Don't forget to turn on GPU support if you're running this demo in Colab. \n",
    "\n",
    "**Runtime** -> **Change runtime type** -> **Hardware accelerator** -> **GPU**\n",
    "\n",
    "Let's install dependencies for Colab:"
   ]
  },
  {
   "cell_type": "code",
   "execution_count": 107,
   "id": "1745a859-71d4-4ec3-8ef3-027cabe786d4",
   "metadata": {},
   "outputs": [],
   "source": [
    "import os\n",
    "import torch\n",
    "\n",
    "from base64 import b64encode\n",
    "from cotracker.utils.visualizer import Visualizer, read_video_from_path\n",
    "from IPython.display import HTML"
   ]
  },
  {
   "cell_type": "markdown",
   "id": "7894bd2d-2099-46fa-8286-f0c56298ecd1",
   "metadata": {},
   "source": [
    "Read a video from CO3D:"
   ]
  },
  {
   "cell_type": "code",
   "execution_count": 109,
   "id": "f1f9ca4d-951e-49d2-8844-91f7bcadfecd",
   "metadata": {},
   "outputs": [],
   "source": [
    "video_dir = '../paper_data/video_1/'\n",
    "video_path = os.path.join(video_dir, 'orig/video_1.mov')\n",
    "video = read_video_from_path(video_path)\n",
    "video = torch.from_numpy(video).permute(0, 3, 1, 2)[None].float()"
   ]
  },
  {
   "cell_type": "code",
   "execution_count": null,
   "id": "fb4c2e9d-0e85-4c10-81a2-827d0759bf87",
   "metadata": {},
   "outputs": [],
   "source": [
    "def show_video(video_path):\n",
    "    video_file = open(video_path, \"r+b\").read()\n",
    "    video_url = f\"data:video/mp4;base64,{b64encode(video_file).decode()}\"\n",
    "    return HTML(f\"\"\"<video width=\"640\" height=\"480\" autoplay loop controls><source src=\"{video_url}\"></video>\"\"\")\n",
    " \n",
    "show_video(video_path)"
   ]
  },
  {
   "cell_type": "markdown",
   "id": "6f89ae18-54d0-4384-8a79-ca9247f5f31a",
   "metadata": {},
   "source": [
    "Import CoTrackerPredictor and create an instance of it. We'll use this object to estimate tracks:"
   ]
  },
  {
   "cell_type": "code",
   "execution_count": 322,
   "id": "d59ac40b-bde8-46d4-bd57-4ead939f22ca",
   "metadata": {},
   "outputs": [],
   "source": [
    "from cotracker.predictor import CoTrackerPredictor\n",
    "\n",
    "model = CoTrackerPredictor(\n",
    "    checkpoint=os.path.join(\n",
    "        '../checkpoints/cotracker2v1.pth'\n",
    "    ), \n",
    "    window_len=16\n",
    ")"
   ]
  },
  {
   "cell_type": "code",
   "execution_count": 323,
   "id": "3f2a4485",
   "metadata": {},
   "outputs": [],
   "source": [
    "if torch.cuda.is_available():\n",
    "    model = model.cuda()\n",
    "    video = video.cuda()"
   ]
  },
  {
   "cell_type": "markdown",
   "id": "e8398155-6dae-4ff0-95f3-dbb52ac70d20",
   "metadata": {},
   "source": [
    "Track points sampled on a regular grid of size 30\\*30 on the first frame:"
   ]
  },
  {
   "cell_type": "code",
   "execution_count": 324,
   "id": "17fcaae9-7b3c-474c-977a-cce08a09d580",
   "metadata": {},
   "outputs": [],
   "source": [
    "pred_tracks, pred_visibility = model(video, grid_size=30)"
   ]
  },
  {
   "cell_type": "markdown",
   "id": "50a58521-a9ba-4f8b-be02-cfdaf79613a2",
   "metadata": {},
   "source": [
    "Visualize and save the result: "
   ]
  },
  {
   "cell_type": "code",
   "execution_count": null,
   "id": "7e793ce0-7b77-46ca-a629-155a6a146000",
   "metadata": {},
   "outputs": [],
   "source": [
    "vis = Visualizer(save_dir=os.path.join(video_dir, \"tracking\"), pad_value=100)\n",
    "vis.visualize(video=video, tracks=pred_tracks, visibility=pred_visibility, filename='teaser');"
   ]
  },
  {
   "cell_type": "code",
   "execution_count": null,
   "id": "2d0733ba-8fe1-4cd4-b963-2085202fba13",
   "metadata": {},
   "outputs": [],
   "source": [
    "show_video(os.path.join(video_dir, \"tracking/teaser.mp4\"))"
   ]
  },
  {
   "cell_type": "markdown",
   "id": "73d88a5f-057c-4b9f-828d-ee0b97d1e72f",
   "metadata": {},
   "source": [
    "## Tracking manually selected points"
   ]
  },
  {
   "cell_type": "markdown",
   "id": "a75bca85-b872-4f4e-be19-ff16f0984037",
   "metadata": {
    "jp-MarkdownHeadingCollapsed": true,
    "tags": []
   },
   "source": [
    "We will start by tracking points queried manually.\n",
    "We define a queried point as: [time, x coord, y coord] \n",
    "\n",
    "So, the code below defines points with different x and y coordinates sampled on frames 0, 10, 20, and 30:"
   ]
  },
  {
   "cell_type": "code",
   "execution_count": null,
   "id": "9b11df44",
   "metadata": {},
   "outputs": [],
   "source": [
    "import cv2\n",
    "import numpy as np\n",
    "\n",
    "def select_roi(frame):\n",
    "    \"\"\"Allow user to select a region of interest (ROI) on the frame.\"\"\"\n",
    "    roi = cv2.selectROI(\"Select Region of Interest\", frame, fromCenter=False, showCrosshair=True)\n",
    "    cv2.destroyWindow(\"Select Region of Interest\")\n",
    "    return roi\n",
    "\n",
    "def detect_points(frame, roi, blue_lower, blue_upper):\n",
    "    \"\"\"Detect blue points in the frame within the ROI.\"\"\"\n",
    "    roi_frame = frame[int(roi[1]):int(roi[1]+roi[3]), int(roi[0]):int(roi[0]+roi[2])]\n",
    "    hsv = cv2.cvtColor(roi_frame, cv2.COLOR_BGR2HSV)\n",
    "    blue_mask = cv2.inRange(hsv, blue_lower, blue_upper)\n",
    "    contours, _ = cv2.findContours(blue_mask, cv2.RETR_TREE, cv2.CHAIN_APPROX_SIMPLE)\n",
    "    contours = sorted(contours, key=lambda x: cv2.contourArea(x), reverse=True)[:68]\n",
    "    \n",
    "    points = []\n",
    "    for contour in contours:\n",
    "        (x, y), radius = cv2.minEnclosingCircle(contour)\n",
    "        x, y = int(x) + int(roi[0]), int(y) + int(roi[1])\n",
    "        points.append((x, y))\n",
    "    \n",
    "    return points\n",
    "\n",
    "def correct_points(frame, points):\n",
    "    \"\"\"Allow user to correct point positions by dragging.\"\"\"\n",
    "    corrected_points = points.copy()\n",
    "    window_name = \"Correct Points (Drag to move, press Enter when done, 'r' to reset a point)\"\n",
    "    cv2.namedWindow(window_name)\n",
    "    \n",
    "    dragging = False\n",
    "    drag_point_index = -1\n",
    "\n",
    "    def mouse_callback(event, x, y, flags, param):\n",
    "        nonlocal dragging, drag_point_index, corrected_points\n",
    "        \n",
    "        if event == cv2.EVENT_LBUTTONDOWN:\n",
    "            drag_point_index = min(range(len(corrected_points)), \n",
    "                                   key=lambda i: (corrected_points[i][0]-x)**2 + (corrected_points[i][1]-y)**2)\n",
    "            dragging = True\n",
    "        \n",
    "        elif event == cv2.EVENT_MOUSEMOVE:\n",
    "            if dragging:\n",
    "                corrected_points[drag_point_index] = (x, y)\n",
    "        \n",
    "        elif event == cv2.EVENT_LBUTTONUP:\n",
    "            dragging = False\n",
    "            drag_point_index = -1\n",
    "        \n",
    "        frame_copy = frame.copy()\n",
    "        for i, (px, py) in enumerate(corrected_points):\n",
    "            cv2.circle(frame_copy, (px, py), 5, (255, 0, 0), -1)\n",
    "            cv2.putText(frame_copy, f'ID:{i}', (px, py - 10), cv2.FONT_HERSHEY_SIMPLEX, 0.5, (255, 255, 255), 1)\n",
    "        cv2.imshow(window_name, frame_copy)\n",
    "    \n",
    "    cv2.setMouseCallback(window_name, mouse_callback)\n",
    "    \n",
    "    while True:\n",
    "        frame_copy = frame.copy()\n",
    "        for i, (x, y) in enumerate(corrected_points):\n",
    "            cv2.circle(frame_copy, (x, y), 5, (255, 0, 0), -1)\n",
    "            cv2.putText(frame_copy, f'ID:{i}', (x, y - 10), cv2.FONT_HERSHEY_SIMPLEX, 0.5, (255, 255, 255), 1)\n",
    "        cv2.imshow(window_name, frame_copy)\n",
    "        \n",
    "        key = cv2.waitKey(1) & 0xFF\n",
    "        if key == 13:  # Press Enter to finish correction\n",
    "            break\n",
    "        elif key == ord('r'):  # Press 'r' to reset a point\n",
    "            print(\"Click on the point you want to reset.\")\n",
    "            reset_point = cv2.waitKey(0) & 0xFF\n",
    "            if reset_point >= ord('0') and reset_point <= ord('9'):\n",
    "                index = reset_point - ord('0')\n",
    "                if index < len(corrected_points):\n",
    "                    corrected_points[index] = points[index]  # Reset to original position\n",
    "    \n",
    "    cv2.destroyWindow(window_name)\n",
    "    return corrected_points\n",
    "\n",
    "# Load the video\n",
    "# video_path = \"/Users/mitchfogelson/Downloads/trimmed_scissor_video.mov\"  # Replace with your video file path\n",
    "cap = cv2.VideoCapture(video_path)\n",
    "\n",
    "# Read the first frame\n",
    "ret, first_frame = cap.read()\n",
    "if not ret:\n",
    "    print(\"Failed to read the video\")\n",
    "    exit()\n",
    "\n",
    "# Let the user select the ROI\n",
    "roi = select_roi(first_frame)\n",
    "\n",
    "# Define HSV color range for blue dots\n",
    "blue_lower = np.array([100, 20, 14])\n",
    "blue_upper = np.array([180, 255, 255])\n",
    "\n",
    "# Detect initial points\n",
    "initial_points = detect_points(first_frame, roi, blue_lower, blue_upper)\n",
    "\n",
    "# Allow user to correct initial points\n",
    "corrected_points = correct_points(first_frame, initial_points)\n",
    "\n",
    "# Create the output vector\n",
    "output_vector = [[0, x, y] for x, y in corrected_points]\n",
    "\n",
    "# Print the output vector\n",
    "print(\"Output vector [frame #, xpos, ypos]:\")\n",
    "for point in output_vector:\n",
    "    print(point)\n",
    "\n",
    "# Release everything\n",
    "cap.release()\n",
    "cv2.destroyAllWindows()"
   ]
  },
  {
   "cell_type": "code",
   "execution_count": 328,
   "id": "c6422e7c-8c6f-4269-92c3-245344afe35b",
   "metadata": {},
   "outputs": [],
   "source": [
    "queries = torch.tensor(output_vector).float()[None].reshape(-1, 3)\n",
    "if torch.cuda.is_available():\n",
    "    queries = queries.cuda()"
   ]
  },
  {
   "cell_type": "code",
   "execution_count": null,
   "id": "1a2727bf",
   "metadata": {},
   "outputs": [],
   "source": [
    "queries[:,0]"
   ]
  },
  {
   "cell_type": "markdown",
   "id": "aec7693b-9d74-48b3-b612-360290ff1e7a",
   "metadata": {},
   "source": [
    "We pass these points as input to the model and track them:"
   ]
  },
  {
   "cell_type": "code",
   "execution_count": 330,
   "id": "09008ca9-6a87-494f-8b05-6370cae6a600",
   "metadata": {},
   "outputs": [],
   "source": [
    "pred_tracks, pred_visibility = model(video, queries=queries[None])"
   ]
  },
  {
   "cell_type": "markdown",
   "id": "b00d2a35-3daf-482d-b40b-b6d4f548ca40",
   "metadata": {},
   "source": [
    "Finally, we visualize the results with tracks leaving traces from the frame where the tracking starts.\n",
    "Color encodes time:"
   ]
  },
  {
   "cell_type": "code",
   "execution_count": 331,
   "id": "01467f8d-667c-4f41-b418-93132584c659",
   "metadata": {},
   "outputs": [],
   "source": [
    "vis = Visualizer(\n",
    "    save_dir=os.path.join(video_dir, \"tracking\"),\n",
    "    linewidth=6,\n",
    "    mode='cool',\n",
    "    tracks_leave_trace=-1\n",
    ")\n"
   ]
  },
  {
   "cell_type": "code",
   "execution_count": null,
   "id": "9c84a58b",
   "metadata": {},
   "outputs": [],
   "source": [
    "\n",
    "vis.visualize(\n",
    "    video=video,\n",
    "    tracks=pred_tracks,\n",
    "    visibility=pred_visibility,\n",
    "    filename='queries');"
   ]
  },
  {
   "cell_type": "code",
   "execution_count": null,
   "id": "fe23d210-ed90-49f1-8311-b7e354c7a9f6",
   "metadata": {},
   "outputs": [],
   "source": [
    "show_video(os.path.join(video_dir, \"tracking/queries.mp4\"))"
   ]
  },
  {
   "cell_type": "markdown",
   "id": "199ecb50-f707-406a-bc64-94bfded827a8",
   "metadata": {},
   "source": [
    "Notice that points queried at frames 10, 20, and 30 are tracked **incorrectly** before the query frame. This is because CoTracker is an online algorithm and only tracks points in one direction. However, we can also run it backward from the queried point to track in both directions. Let's correct this:"
   ]
  },
  {
   "cell_type": "code",
   "execution_count": null,
   "id": "a195599d",
   "metadata": {},
   "outputs": [],
   "source": [
    "import cv2\n",
    "import numpy as np\n",
    "\n",
    "def select_roi(frame):\n",
    "    \"\"\"Allow user to select a region of interest (ROI) on the frame.\"\"\"\n",
    "    roi = cv2.selectROI(\"Select Region of Interest\", frame, fromCenter=False, showCrosshair=True)\n",
    "    cv2.destroyWindow(\"Select Region of Interest\")\n",
    "    return roi\n",
    "\n",
    "def detect_points(frame, roi, blue_lower, blue_upper):\n",
    "    \"\"\"Detect blue points in the frame within the ROI.\"\"\"\n",
    "    roi_frame = frame[int(roi[1]):int(roi[1]+roi[3]), int(roi[0]):int(roi[0]+roi[2])]\n",
    "    hsv = cv2.cvtColor(roi_frame, cv2.COLOR_BGR2HSV)\n",
    "    blue_mask = cv2.inRange(hsv, blue_lower, blue_upper)\n",
    "    contours, _ = cv2.findContours(blue_mask, cv2.RETR_TREE, cv2.CHAIN_APPROX_SIMPLE)\n",
    "    contours = sorted(contours, key=lambda x: cv2.contourArea(x), reverse=True)[:68]\n",
    "    \n",
    "    points = []\n",
    "    for contour in contours:\n",
    "        (x, y), radius = cv2.minEnclosingCircle(contour)\n",
    "        x, y = int(x) + int(roi[0]), int(y) + int(roi[1])\n",
    "        points.append((x, y))\n",
    "    \n",
    "    return points\n",
    "\n",
    "def correct_points(frame, points):\n",
    "    \"\"\"Allow user to correct point positions by dragging.\"\"\"\n",
    "    corrected_points = points.copy()\n",
    "    window_name = \"Correct Points (Drag to move, press Enter when done, 'r' to reset a point)\"\n",
    "    cv2.namedWindow(window_name)\n",
    "    \n",
    "    dragging = False\n",
    "    drag_point_index = -1\n",
    "\n",
    "    def mouse_callback(event, x, y, flags, param):\n",
    "        nonlocal dragging, drag_point_index, corrected_points\n",
    "        \n",
    "        if event == cv2.EVENT_LBUTTONDOWN:\n",
    "            drag_point_index = min(range(len(corrected_points)), \n",
    "                                   key=lambda i: (corrected_points[i][0]-x)**2 + (corrected_points[i][1]-y)**2)\n",
    "            dragging = True\n",
    "        \n",
    "        elif event == cv2.EVENT_MOUSEMOVE:\n",
    "            if dragging:\n",
    "                corrected_points[drag_point_index] = (x, y)\n",
    "        \n",
    "        elif event == cv2.EVENT_LBUTTONUP:\n",
    "            dragging = False\n",
    "            drag_point_index = -1\n",
    "        \n",
    "        frame_copy = frame.copy()\n",
    "        for i, (px, py) in enumerate(corrected_points):\n",
    "            cv2.circle(frame_copy, (px, py), 5, (255, 0, 0), -1)\n",
    "            cv2.putText(frame_copy, f'ID:{i}', (px, py - 10), cv2.FONT_HERSHEY_SIMPLEX, 0.5, (255, 255, 255), 1)\n",
    "        cv2.imshow(window_name, frame_copy)\n",
    "    \n",
    "    cv2.setMouseCallback(window_name, mouse_callback)\n",
    "    \n",
    "    while True:\n",
    "        frame_copy = frame.copy()\n",
    "        for i, (x, y) in enumerate(corrected_points):\n",
    "            cv2.circle(frame_copy, (x, y), 5, (255, 0, 0), -1)\n",
    "            cv2.putText(frame_copy, f'ID:{i}', (x, y - 10), cv2.FONT_HERSHEY_SIMPLEX, 0.5, (255, 255, 255), 1)\n",
    "        cv2.imshow(window_name, frame_copy)\n",
    "        \n",
    "        key = cv2.waitKey(1) & 0xFF\n",
    "        if key == 13:  # Press Enter to finish correction\n",
    "            break\n",
    "        elif key == ord('r'):  # Press 'r' to reset a point\n",
    "            print(\"Click on the point you want to reset.\")\n",
    "            reset_point = cv2.waitKey(0) & 0xFF\n",
    "            if reset_point >= ord('0') and reset_point <= ord('9'):\n",
    "                index = reset_point - ord('0')\n",
    "                if index < len(corrected_points):\n",
    "                    corrected_points[index] = points[index]  # Reset to original position\n",
    "    \n",
    "    cv2.destroyWindow(window_name)\n",
    "    return corrected_points\n",
    "\n",
    "# Load the video\n",
    "# video_path = \"/Users/mitchfogelson/Downloads/trimmed_scissor_video.mov\"  # Replace with your video file path\n",
    "cap = cv2.VideoCapture(video_path)\n",
    "\n",
    "# Initialize last_frame\n",
    "last_frame = None\n",
    "frame_count = 0\n",
    "\n",
    "# Read frames until the end of the video\n",
    "while True:\n",
    "    ret, frame = cap.read()\n",
    "    if not ret:\n",
    "        break\n",
    "    last_frame = frame\n",
    "    frame_count += 1\n",
    "\n",
    "if last_frame is None:\n",
    "    print(\"Failed to read any frames from the video\")\n",
    "    # exit()\n",
    "\n",
    "print(f\"Total frames in video: {frame_count}\")\n",
    "\n",
    "# Let the user select the ROI\n",
    "roi = select_roi(last_frame)\n",
    "\n",
    "# Define HSV color range for blue dots\n",
    "blue_lower = np.array([100, 20, 14])\n",
    "blue_upper = np.array([180, 255, 255])\n",
    "\n",
    "# Detect initial points\n",
    "initial_points = detect_points(last_frame, roi, blue_lower, blue_upper)\n",
    "\n",
    "# Allow user to correct initial points\n",
    "corrected_points = correct_points(last_frame, initial_points)\n"
   ]
  },
  {
   "cell_type": "code",
   "execution_count": null,
   "id": "35a98ecd",
   "metadata": {},
   "outputs": [],
   "source": [
    "\n",
    "# Create the output vector\n",
    "output_vector = [[frame_count-1, x, y] for x, y in corrected_points]\n",
    "\n",
    "# Print the output vector\n",
    "print(\"Output vector [frame #, xpos, ypos]:\")\n",
    "for point in output_vector:\n",
    "    print(point)\n",
    "\n",
    "# Release everything\n",
    "cap.release()\n",
    "cv2.destroyAllWindows()"
   ]
  },
  {
   "cell_type": "code",
   "execution_count": 336,
   "id": "e32fcf02",
   "metadata": {},
   "outputs": [],
   "source": [
    "queries = torch.tensor(output_vector).float()[None].reshape(-1, 3)\n",
    "if torch.cuda.is_available():\n",
    "    queries = queries.cuda()"
   ]
  },
  {
   "cell_type": "code",
   "execution_count": 337,
   "id": "b40775f2-6ab0-4bc6-9099-f903935657c9",
   "metadata": {},
   "outputs": [],
   "source": [
    "pred_tracks, pred_visibility = model(video, queries=queries[None], backward_tracking=True)\n"
   ]
  },
  {
   "cell_type": "code",
   "execution_count": null,
   "id": "de508af2",
   "metadata": {},
   "outputs": [],
   "source": [
    "pred_tracks[0,0,1,:]"
   ]
  },
  {
   "cell_type": "code",
   "execution_count": null,
   "id": "bc46c982",
   "metadata": {},
   "outputs": [],
   "source": [
    "\n",
    "vis.visualize(\n",
    "    video=video,\n",
    "    tracks=pred_tracks,\n",
    "    visibility=pred_visibility,\n",
    "    filename='queries_backward');"
   ]
  },
  {
   "cell_type": "code",
   "execution_count": null,
   "id": "d3120f31-9365-4867-8c85-5638b0708edc",
   "metadata": {},
   "outputs": [],
   "source": [
    "show_video(os.path.join(video_dir, \"tracking/queries_backward.mp4\"))"
   ]
  },
  {
   "cell_type": "code",
   "execution_count": null,
   "id": "5ae8f13e",
   "metadata": {},
   "outputs": [],
   "source": [
    "import cv2\n",
    "import numpy as np\n",
    "\n",
    "def select_roi(frame):\n",
    "    \"\"\"Allow user to select a region of interest (ROI) on the frame.\"\"\"\n",
    "    roi = cv2.selectROI(\"Select Region of Interest\", frame, fromCenter=False, showCrosshair=True)\n",
    "    cv2.destroyWindow(\"Select Region of Interest\")\n",
    "    return roi\n",
    "\n",
    "def select_scale_points(frame):\n",
    "    \"\"\"Allow user to select two points for setting the physical scale.\"\"\"\n",
    "    points = []\n",
    "    \n",
    "    def mouse_callback(event, x, y, flags, param):\n",
    "        if event == cv2.EVENT_LBUTTONDOWN:\n",
    "            points.append((x, y))\n",
    "            cv2.circle(frame, (x, y), 5, (0, 255, 0), -1)\n",
    "            cv2.imshow(\"Select Scale Points\", frame)\n",
    "            \n",
    "            if len(points) == 2:\n",
    "                cv2.line(frame, points[0], points[1], (0, 255, 0), 2)\n",
    "                cv2.imshow(\"Select Scale Points\", frame)\n",
    "    \n",
    "    cv2.namedWindow(\"Select Scale Points\")\n",
    "    cv2.setMouseCallback(\"Select Scale Points\", mouse_callback)\n",
    "    \n",
    "    while len(points) < 2:\n",
    "        cv2.imshow(\"Select Scale Points\", frame)\n",
    "        if cv2.waitKey(1) & 0xFF == ord('q'):\n",
    "            break\n",
    "    \n",
    "    cv2.destroyWindow(\"Select Scale Points\")\n",
    "    return points\n",
    "\n",
    "def calculate_scale(points, distance_meters):\n",
    "    \"\"\"Calculate the scale (pixels per meter) based on two points and their real-world distance.\"\"\"\n",
    "    pixel_distance = np.sqrt((points[1][0] - points[0][0])**2 + (points[1][1] - points[0][1])**2)\n",
    "    return pixel_distance / distance_meters\n",
    "\n",
    "def pixels_to_meters(points, scale, origin):\n",
    "    \"\"\"Convert pixel coordinates to meters.\"\"\"\n",
    "    return [((p[0] - origin[0]) / scale, (p[1] - origin[1]) / scale) for p in points]\n",
    "\n",
    "# Load the video\n",
    "# video_path = '/Users/mitchfogelson/Downloads/IMG_2071 2.mov'  # Replace with your video file path\n",
    "cap = cv2.VideoCapture(video_path)\n",
    "\n",
    "# Read the first frame (or last frame, depending on your preference)\n",
    "ret, frame = cap.read()\n",
    "if not ret:\n",
    "    print(\"Failed to read the video\")\n",
    "    exit()\n",
    "\n",
    "# Let the user select the ROI\n",
    "roi = select_roi(frame)\n",
    "\n",
    "# Let the user select two points for scale\n",
    "scale_points = select_scale_points(frame)\n",
    "\n",
    "# Ask for the real-world distance between the two points\n",
    "distance_meters = float(input(\"Enter the distance between the two points in meters: \"))\n",
    "\n",
    "# Calculate the scale (pixels per meter)\n",
    "scale = calculate_scale(scale_points, distance_meters)\n",
    "print(f\"Scale: {scale} pixels per meter\")\n",
    "\n",
    "# Set the origin (top-left corner of ROI)\n",
    "origin = (int(roi[0]), int(roi[1]))\n",
    "\n",
    "# Now, let's process the pred_tracks\n",
    "# Assuming pred_tracks is already loaded and has shape [1, # frames, # nodes, 2]\n",
    "# pred_tracks = np.random.rand(1, 100, 10, 2) * 100  # Replace this with your actual pred_tracks\n",
    "\n",
    "# Convert pred_tracks from pixels to meters\n",
    "pred_tracks_meters = np.zeros_like(pred_tracks)\n",
    "for i in range(pred_tracks.shape[1]):  # For each frame\n",
    "    for j in range(pred_tracks.shape[2]):  # For each node\n",
    "        x_pixels, y_pixels = pred_tracks[0, i, j]\n",
    "        x_meters, y_meters = pixels_to_meters([(x_pixels, y_pixels)], scale, origin)[0]\n",
    "        pred_tracks_meters[0, i, j] = [x_meters, y_meters]\n",
    "\n",
    "# Print some sample results\n",
    "print(\"\\nSample results (first 5 frames, first 3 nodes):\")\n",
    "print(\"Frame | Node | Pixels (x, y) | Meters (x, y)\")\n",
    "print(\"-\" * 50)\n",
    "for i in range(min(5, pred_tracks.shape[1])):\n",
    "    for j in range(min(3, pred_tracks.shape[2])):\n",
    "        pixels = pred_tracks[0, i, j]\n",
    "        meters = pred_tracks_meters[0, i, j]\n",
    "        print(f\"{i:5d} | {j:4d} | ({pixels[0]:6.2f}, {pixels[1]:6.2f}) | ({meters[0]:6.2f}, {meters[1]:6.2f})\")\n",
    "\n",
    "# Release everything\n",
    "cap.release()\n",
    "cv2.destroyAllWindows()"
   ]
  },
  {
   "cell_type": "code",
   "execution_count": null,
   "id": "5125f48f",
   "metadata": {},
   "outputs": [],
   "source": [
    "import numpy as np\n",
    "import matplotlib.pyplot as plt\n",
    "from matplotlib.animation import FuncAnimation\n",
    "from moviepy.editor import VideoFileClip\n",
    "import matplotlib.animation as animation\n",
    "\n",
    "def create_animation(pred_tracks_meters, output_file='animation.mp4', fps=30, dot_size=5):\n",
    "    \"\"\"\n",
    "    Create an animation of the points from pred_tracks_meters.\n",
    "    \n",
    "    Args:\n",
    "    pred_tracks_meters (np.array): Array of shape [1, # frames, # nodes, 2] containing the x, y coordinates in meters.\n",
    "    output_file (str): Name of the output video file.\n",
    "    fps (int): Frames per second for the output video.\n",
    "    dot_size (int): Size of the dots representing the points.\n",
    "    \n",
    "    Returns:\n",
    "    None\n",
    "    \"\"\"\n",
    "    # Extract relevant dimensions\n",
    "    num_frames = pred_tracks_meters.shape[1]\n",
    "    num_nodes = pred_tracks_meters.shape[2]\n",
    "    \n",
    "    # Create a new figure and axis\n",
    "    fig, ax = plt.subplots(figsize=(10, 10))\n",
    "    \n",
    "    #square aspect ratio\n",
    "    ax.set_aspect('equal', adjustable='box')\n",
    "    \n",
    "    # Set the limits of the plot\n",
    "    x_min, x_max = pred_tracks_meters[0, :, :, 0].min(), pred_tracks_meters[0, :, :, 0].max()\n",
    "    y_min, y_max = pred_tracks_meters[0, :, :, 1].min(), pred_tracks_meters[0, :, :, 1].max()\n",
    "    ax.set_xlim(x_min, x_max)\n",
    "    ax.set_ylim(y_min, y_max)\n",
    "    \n",
    "    # Create a scatter plot for the points\n",
    "    scatter = ax.scatter([], [], s=dot_size)\n",
    "    \n",
    "    # Set labels and title\n",
    "    ax.set_xlabel('X position (meters)')\n",
    "    ax.set_ylabel('Y position (meters)')\n",
    "    ax.set_title('Point Tracking Animation')\n",
    "    \n",
    "    # Add a text annotation for the frame number\n",
    "    frame_text = ax.text(0.02, 0.98, '', transform=ax.transAxes, verticalalignment='top')\n",
    "    \n",
    "    def init():\n",
    "        scatter.set_offsets(np.c_[[], []])\n",
    "        frame_text.set_text('')\n",
    "        return scatter, frame_text\n",
    "    \n",
    "    def update(frame):\n",
    "        # Update the positions of the points\n",
    "        positions = pred_tracks_meters[0, frame, :, :]\n",
    "        scatter.set_offsets(positions)\n",
    "        \n",
    "        # Update the frame number text\n",
    "        frame_text.set_text(f'Frame: {frame}')\n",
    "        \n",
    "        return scatter, frame_text\n",
    "    \n",
    "    # Create the animation\n",
    "    anim = FuncAnimation(fig, update, frames=num_frames, init_func=init, blit=True, interval=1000/fps)\n",
    "    \n",
    "    # Save the animation as a video file\n",
    "    writer = animation.writers['ffmpeg'](fps=fps)\n",
    "    anim.save(output_file, writer=writer)\n",
    "    \n",
    "    plt.close(fig)\n",
    "    \n",
    "    print(f\"Animation saved as {output_file}\")\n",
    "\n",
    "# Example usage:\n",
    "# Assuming pred_tracks_meters is already defined\n",
    "create_animation(pred_tracks_meters, output_file=os.path.join(video_dir, 'tracking/point_tracking_animation.mp4'), fps=30, dot_size=5)"
   ]
  },
  {
   "cell_type": "code",
   "execution_count": null,
   "id": "02d451b8",
   "metadata": {},
   "outputs": [],
   "source": [
    "import numpy as np\n",
    "import pandas as pd\n",
    "\n",
    "def save_pred_tracks_to_csv(pred_tracks_meters, filename):\n",
    "    \"\"\"\n",
    "    Save pred_tracks_meters to a CSV file with the following format:\n",
    "    Headers: node ids\n",
    "    Rows: (x,y) for each frame\n",
    "\n",
    "    Args:\n",
    "    pred_tracks_meters (np.array): Array of shape [1, # frames, # nodes, 2] containing the x, y coordinates in meters.\n",
    "    filename (str): Name of the output CSV file.\n",
    "    \"\"\"\n",
    "    # Remove the first dimension if it's 1\n",
    "    if pred_tracks_meters.shape[0] == 1:\n",
    "        pred_tracks_meters = pred_tracks_meters.squeeze(0)\n",
    "\n",
    "    num_frames, num_nodes, _ = pred_tracks_meters.shape\n",
    "\n",
    "    # Create headers (node IDs)\n",
    "    headers = [f'Node_{i}' for i in range(num_nodes)]\n",
    "\n",
    "    # Create a list to store each row of data\n",
    "    data_rows = []\n",
    "\n",
    "    # Process each frame\n",
    "    for frame in range(num_frames):\n",
    "        row = []\n",
    "        for node in range(num_nodes):\n",
    "            x, y = pred_tracks_meters[frame, node]\n",
    "            row.append(f'({x:.4f},{y:.4f})')\n",
    "        data_rows.append(row)\n",
    "\n",
    "    # Create a DataFrame\n",
    "    df = pd.DataFrame(data_rows, columns=headers)\n",
    "\n",
    "    # Add a frame number column\n",
    "    df.insert(0, 'Frame', range(num_frames))\n",
    "\n",
    "    # Save to CSV\n",
    "    df.to_csv(filename, index=False)\n",
    "    print(f\"Data saved to {filename}\")\n",
    "\n",
    "# Example usage:\n",
    "# Assuming pred_tracks_meters is already defined\n",
    "if not os.path.exists(os.path.join(video_dir, 'csv')):\n",
    "    os.makedirs(os.path.join(video_dir, 'csv'))\n",
    "save_pred_tracks_to_csv(pred_tracks_meters, os.path.join(video_dir, 'csv/pred_tracks_formatted.csv'))"
   ]
  },
  {
   "cell_type": "markdown",
   "id": "87f2a3b4-a8b3-4aeb-87d2-28f056c624ba",
   "metadata": {},
   "source": [
    "## Get slop from video"
   ]
  },
  {
   "cell_type": "code",
   "execution_count": 110,
   "id": "a86601da",
   "metadata": {},
   "outputs": [],
   "source": [
    "import pandas as pd\n",
    "import numpy as np \n",
    "import matplotlib.pyplot as plt"
   ]
  },
  {
   "cell_type": "code",
   "execution_count": 111,
   "id": "571fb7a2",
   "metadata": {},
   "outputs": [],
   "source": [
    "df = pd.read_csv(os.path.join(video_dir, 'csv/pred_tracks_formatted.csv'))"
   ]
  },
  {
   "cell_type": "code",
   "execution_count": 112,
   "id": "7227ddeb",
   "metadata": {},
   "outputs": [],
   "source": [
    "frame = 1"
   ]
  },
  {
   "cell_type": "code",
   "execution_count": null,
   "id": "237f4c88",
   "metadata": {},
   "outputs": [],
   "source": [
    "positions = np.asarray([[float(df.iloc[frame,1:][i].replace('(','').replace(')','').split(',')[0]), float(df.iloc[frame,1:][i].replace('(','').replace(')','').split(',')[1])] for i in range(df.shape[1]-1)])"
   ]
  },
  {
   "cell_type": "code",
   "execution_count": null,
   "id": "3e066e6e",
   "metadata": {},
   "outputs": [],
   "source": [
    "\n",
    "# plot the data \n",
    "plt.figure(figsize=(10, 10))\n",
    "# for i in range(1, df.shape[1]):\n",
    "plt.scatter(positions[:,0], positions[:,1],  s=10)\n",
    "ax = plt.gca()\n",
    "ax.set_aspect('equal', adjustable='box')\n",
    "plt.xlabel('Frame')\n",
    "plt.ylabel('Position (meters)')\n",
    "plt.title('Point Tracking Data')\n",
    "# plt.legend()\n",
    "plt.show()\n"
   ]
  },
  {
   "cell_type": "code",
   "execution_count": 115,
   "id": "0204825f",
   "metadata": {},
   "outputs": [],
   "source": [
    "# get the 3 points with the smallest x values\n",
    "sorted_positions = positions[positions[:,0].argsort()]"
   ]
  },
  {
   "cell_type": "code",
   "execution_count": 116,
   "id": "643e5bc8",
   "metadata": {},
   "outputs": [],
   "source": [
    "center_pos = sorted_positions[1, 1]"
   ]
  },
  {
   "cell_type": "code",
   "execution_count": 117,
   "id": "56cf8d14",
   "metadata": {},
   "outputs": [],
   "source": [
    "center_points = [p for p in sorted_positions if np.linalg.norm(p[1]-center_pos) <= 1.055e-2]"
   ]
  },
  {
   "cell_type": "code",
   "execution_count": 118,
   "id": "d46340d8",
   "metadata": {},
   "outputs": [],
   "source": [
    "def group_points(sorted_positions, tolerance=5e-3):\n",
    "    grouped_points = []\n",
    "    adjacency_matrix = np.zeros((len(sorted_positions), len(sorted_positions)))\n",
    "\n",
    "    center = sorted_positions[1,1]\n",
    "\n",
    "    # Get the center points that are close to the scissor center\n",
    "    center_points = [p for p in sorted_positions if np.linalg.norm(p[1] - center) <= tolerance]\n",
    "    center_points_ind = [i for i, p in enumerate(sorted_positions) if np.linalg.norm(p[1] - center) <= tolerance]\n",
    "    \n",
    "    # get all the points that are not the center points \n",
    "    sorted_positions_reduced = np.delete(sorted_positions, center_points_ind, axis=0)\n",
    "    \n",
    "    for center_point in center_points:\n",
    "        # Find the 4 points in the [top right, bottom left, bottom right, top left] quadrants\n",
    "        top_right = min([p for p in sorted_positions_reduced if p[0] > center_point[0] and p[1] > center_point[1]],\n",
    "                        key=lambda p: np.linalg.norm(p - center_point), default=None)\n",
    "        bottom_left = min([p for p in sorted_positions_reduced if p[0] < center_point[0] and p[1] < center_point[1]],\n",
    "                            key=lambda p: np.linalg.norm(p - center_point), default=None)\n",
    "        bottom_right = min([p for p in sorted_positions_reduced if p[0] > center_point[0] and p[1] < center_point[1]],\n",
    "                            key=lambda p: np.linalg.norm(p - center_point), default=None)\n",
    "        top_left = min([p for p in sorted_positions_reduced if p[0] < center_point[0] and p[1] > center_point[1]],\n",
    "                        key=lambda p: np.linalg.norm(p - center_point), default=None)\n",
    "        connected_points = [top_right, bottom_left, bottom_right, top_left]\n",
    "\n",
    "        grouped_points.append({\n",
    "            'center': center_point,\n",
    "            'points': connected_points\n",
    "        })\n",
    "\n",
    "        # Find indices of the center and connected points in the original sorted_positions\n",
    "        center_idx = np.where((sorted_positions == center_point).all(axis=1))[0][0]\n",
    "        adjacency_matrix[center_idx][center_idx] = 1  # Set connection to itself\n",
    "\n",
    "        for point in connected_points:\n",
    "            if point is None:  # If the point exists\n",
    "                continue\n",
    "            point_idx = np.where((sorted_positions == point).all(axis=1))[0][0]\n",
    "            adjacency_matrix[center_idx][point_idx] = 1  # Set connection in adjacency matrix\n",
    "            adjacency_matrix[point_idx][center_idx] = 1  # Make it bidirectional\n",
    "            adjacency_matrix[point_idx][point_idx] = 1\n",
    "\n",
    "    return grouped_points, adjacency_matrix"
   ]
  },
  {
   "cell_type": "code",
   "execution_count": null,
   "id": "1c6531fe",
   "metadata": {},
   "outputs": [],
   "source": [
    "len(center_points)"
   ]
  },
  {
   "cell_type": "code",
   "execution_count": 120,
   "id": "e4515f99",
   "metadata": {},
   "outputs": [],
   "source": [
    "grouped_points_real, adj_mat = group_points(sorted_positions, 1.055e-2)"
   ]
  },
  {
   "cell_type": "code",
   "execution_count": 121,
   "id": "0a2d36e1",
   "metadata": {},
   "outputs": [],
   "source": [
    "# get lower triangle of the adjacency matrix\n",
    "adj_mat = np.tril(adj_mat)\n"
   ]
  },
  {
   "cell_type": "code",
   "execution_count": null,
   "id": "ff80feb2",
   "metadata": {},
   "outputs": [],
   "source": [
    "adj_mat"
   ]
  },
  {
   "cell_type": "code",
   "execution_count": null,
   "id": "eba6b55f",
   "metadata": {},
   "outputs": [],
   "source": [
    "len(center_points)"
   ]
  },
  {
   "cell_type": "code",
   "execution_count": null,
   "id": "f9719d31",
   "metadata": {},
   "outputs": [],
   "source": [
    "sorted_positions[1,:]"
   ]
  },
  {
   "cell_type": "code",
   "execution_count": 125,
   "id": "221a9199",
   "metadata": {},
   "outputs": [],
   "source": [
    "# get the angle between the 3 points\n",
    "def angle_between_points(p1, p2, p3):\n",
    "    \"\"\"Calculate the angle between three points.\"\"\"\n",
    "    v1 = p1 - p2\n",
    "    v2 = p3 - p2\n",
    "    angle = np.arccos(np.dot(v1, v2) / (np.linalg.norm(v1) * np.linalg.norm(v2)))\n",
    "    return np.degrees(angle)"
   ]
  },
  {
   "cell_type": "code",
   "execution_count": 126,
   "id": "ad1b342b",
   "metadata": {},
   "outputs": [],
   "source": [
    "angle = angle_between_points(sorted_positions[0], sorted_positions[1], sorted_positions[2])"
   ]
  },
  {
   "cell_type": "code",
   "execution_count": 127,
   "id": "c3f2351b",
   "metadata": {},
   "outputs": [],
   "source": [
    "def angle_between_2_points(p1, p2):\n",
    "    \"\"\"\n",
    "    Calculate the angle (in degrees) between the line formed by two points (p1, p2) and the x-axis.\n",
    "    \n",
    "    Parameters:\n",
    "    p1 (tuple): Coordinates of the first point (x1, y1)\n",
    "    p2 (tuple): Coordinates of the second point (x2, y2)\n",
    "    \n",
    "    Returns:\n",
    "    float: Angle between the line through the points and the x-axis, in degrees.\n",
    "    \"\"\"\n",
    "    # Calculate the difference in x and y coordinates\n",
    "    delta_x = p2[0] - p1[0]\n",
    "    delta_y = p2[1] - p1[1]\n",
    "    \n",
    "    # Calculate the angle using atan2, then convert it to degrees\n",
    "    angle_rad = np.arctan2(delta_y, delta_x)\n",
    "    angle_deg = np.rad2deg(angle_rad)\n",
    "    \n",
    "    return angle_deg"
   ]
  },
  {
   "cell_type": "code",
   "execution_count": 128,
   "id": "2b9cd97a",
   "metadata": {},
   "outputs": [],
   "source": [
    "offset_angle = angle_between_2_points(sorted_positions[0], sorted_positions[2])"
   ]
  },
  {
   "cell_type": "code",
   "execution_count": 129,
   "id": "ebfd9be3",
   "metadata": {},
   "outputs": [],
   "source": [
    "length = np.linalg.norm(sorted_positions[0] - sorted_positions[1])*2"
   ]
  },
  {
   "cell_type": "code",
   "execution_count": 178,
   "id": "de46ba91",
   "metadata": {},
   "outputs": [],
   "source": [
    "class ScissorMechanism:\n",
    "    def __init__(self, link_length, angle, offset_position, offset_rotation, num_cells):\n",
    "        self.link_length = link_length\n",
    "        self.angle = np.deg2rad(angle)  # Convert angle to radians\n",
    "        self.offset_position = np.array(offset_position)\n",
    "        self.offset_rotation = np.deg2rad(offset_rotation)  # Convert offset rotation to radians\n",
    "        self.num_cells = num_cells\n",
    "\n",
    "    def calculate_endpoints(self):\n",
    "        \"\"\"\n",
    "        Calculate the positions of the center and end points for each scissor unit.\n",
    "        Returns a list of center and endpoint positions.\n",
    "        \"\"\"\n",
    "        # List to hold the position of the centers and points of all scissor units\n",
    "        positions = []\n",
    "\n",
    "        # Loop over the number of scissor cells\n",
    "        for i in range(self.num_cells):\n",
    "            # Calculate the x and y positions based on the link length and angle for each cell\n",
    "            center_x = self.offset_position[0] + i * self.link_length * np.cos(self.angle/2)\n",
    "            center_y = self.offset_position[1]\n",
    "            center_position = np.array([center_x, center_y])\n",
    "\n",
    "            # Endpoints of the scissor link (left and right)\n",
    "            endpoint_1_x = center_x + 0.5 * self.link_length * np.cos(self.angle/2)\n",
    "            endpoint_1_y = center_y + 0.5 * self.link_length * np.sin(self.angle/2)\n",
    "            endpoint_2_x = center_x - 0.5 * self.link_length * np.cos(self.angle/2)\n",
    "            endpoint_2_y = center_y - 0.5 * self.link_length * np.sin(self.angle/2)\n",
    "            # Endpoints of the scissor link (left and right)\n",
    "            endpoint_3_x = center_x + 0.5 * self.link_length * np.cos(-self.angle/2)\n",
    "            endpoint_3_y = center_y + 0.5 * self.link_length * np.sin(-self.angle/2)\n",
    "            endpoint_4_x = center_x - 0.5 * self.link_length * np.cos(-self.angle/2)\n",
    "            endpoint_4_y = center_y - 0.5 * self.link_length * np.sin(-self.angle/2)\n",
    "\n",
    "\n",
    "            endpoint_1 = np.array([endpoint_1_x, endpoint_1_y])\n",
    "            endpoint_2 = np.array([endpoint_2_x, endpoint_2_y])\n",
    "            endpoint_3 = np.array([endpoint_3_x, endpoint_3_y])\n",
    "            endpoint_4 = np.array([endpoint_4_x, endpoint_4_y])\n",
    "\n",
    "            # Append positions of center and endpoints for this scissor unit\n",
    "            positions.append({\n",
    "                'center': center_position,\n",
    "                'points': (endpoint_1, endpoint_2, endpoint_3, endpoint_4)\n",
    "            })\n",
    "\n",
    "        return positions\n",
    "\n",
    "    def display_positions(self):\n",
    "        \"\"\"\n",
    "        Display the center and endpoints for each scissor unit.\n",
    "        \"\"\"\n",
    "        positions = self.calculate_endpoints()\n",
    "        for i, pos in enumerate(positions):\n",
    "            print(f\"Scissor Unit {i+1}:\")\n",
    "            print(f\"  Center: {pos['center']}\")\n",
    "            print(f\"  Endpoints: {pos['points']}\\n\")"
   ]
  },
  {
   "cell_type": "code",
   "execution_count": null,
   "id": "71e624d0",
   "metadata": {},
   "outputs": [],
   "source": [
    "# Define parameters for the scissor mechanism\n",
    "link_length = length # Length of each scissor link\n",
    "angle = 180-angle  # Angle between scissor arms\n",
    "offset_position = sorted_positions[1,:]  # Starting position of the first scissor center\n",
    "offset_rotation = offset_angle  # No rotation applied to the entire scissor mechanism\n",
    "num_cells = 23  # Number of scissor units\n",
    "\n",
    "# Create the scissor mechanism and display positions\n",
    "scissor = ScissorMechanism(link_length, angle, offset_position, offset_rotation, num_cells)\n",
    "scissor.display_positions()"
   ]
  },
  {
   "cell_type": "code",
   "execution_count": 217,
   "id": "68957085",
   "metadata": {},
   "outputs": [],
   "source": [
    "def plot_real_v_sim(scissor_positions, grouped_points_real, frame_id, show=False, save=False, video_dir=video_dir, active_units=None):\n",
    "    plt.figure(figsize=(10, 10))\n",
    "    # for i in range(1, df.shape[1]):\n",
    "    # scissor_positions = scissor.calculate_endpoints()\n",
    "    # Plot the scissor mechanism\n",
    "    for unit in scissor_positions:\n",
    "        center = unit['center']\n",
    "        plt.scatter(center[0], center[1], color='r')\n",
    "    \n",
    "        for endpoint in unit['points']:\n",
    "            if endpoint is None:\n",
    "                continue\n",
    "            plt.scatter(endpoint[0], endpoint[1], color='g')\n",
    "            plt.plot([center[0], endpoint[0]], [center[1], endpoint[1]], color='r')\n",
    "\n",
    "        \n",
    "    for unit in grouped_points_real:\n",
    "        center = unit['center']\n",
    "        plt.scatter(center[0], center[1], color='b')\n",
    "\n",
    "        for endpoint in unit['points']:\n",
    "            if endpoint is None:\n",
    "                continue\n",
    "            plt.scatter(endpoint[0], endpoint[1], color='k')\n",
    "            plt.plot([center[0], endpoint[0]], [center[1], endpoint[1]], color='b')\n",
    "\n",
    "    if active_units is not None:\n",
    "        grouped_points = [grouped_points_real[i] for i in active_units]\n",
    "        for unit in grouped_points:\n",
    "            center = unit['center']\n",
    "            plt.scatter(center[0], center[1], color='y')\n",
    "\n",
    "            for endpoint in unit['points']:\n",
    "                if endpoint is None:\n",
    "                    continue\n",
    "                plt.scatter(endpoint[0], endpoint[1], color='y')\n",
    "                plt.plot([center[0], endpoint[0]], [center[1], endpoint[1]], color='y')\n",
    "\n",
    "    # Formatting the plot\n",
    "    ax = plt.gca()\n",
    "    ax.set_aspect('equal', adjustable='box')\n",
    "    plt.xlabel('Frame')\n",
    "    plt.ylabel('Position (meters)')\n",
    "    plt.title('Point Tracking Data with Scissor Mechanism')\n",
    "    # set x and y limits \n",
    "    plt.xlim(0, 0.6)\n",
    "    plt.ylim(0, 0.06)\n",
    "    # plt.legend()\n",
    "    if show:\n",
    "        plt.show()\n",
    "        \n",
    "    if save: \n",
    "        plt.savefig(os.path.join(video_dir, f'images/scissor_mechanism_{frame_id}.png'));"
   ]
  },
  {
   "cell_type": "code",
   "execution_count": null,
   "id": "96678ec0",
   "metadata": {},
   "outputs": [],
   "source": [
    "slops = []\n",
    "for real_unit, sim_unit in zip(grouped_points_real, scissor_positions):\n",
    "    x_slop = real_unit['center'][0] - sim_unit['center'][0]\n",
    "    y_slop = real_unit['center'][1] - sim_unit['center'][1]\n",
    "    slops.append([x_slop, y_slop])\n",
    "    \n",
    "    for endpoint_real, endpoint_sim in zip(real_unit['points'], sim_unit['points']):\n",
    "        if endpoint_real is None or endpoint_sim is None:\n",
    "            continue\n",
    "        x_slop = endpoint_real[0] - endpoint_sim[0]\n",
    "        y_slop = endpoint_real[1] - endpoint_sim[1]\n",
    "        slops.append([x_slop, y_slop])\n",
    "    "
   ]
  },
  {
   "cell_type": "code",
   "execution_count": 211,
   "id": "850a4888",
   "metadata": {},
   "outputs": [],
   "source": [
    "def plot_slops_unadjusted(slops, frame_id, show=False, save=False, video_dir=video_dir):\n",
    "    slops = np.array(slops)\n",
    "    plt.figure(figsize=(10, 10))\n",
    "    plt.scatter(range(len(slops)), slops[:,0], label='X Slop')\n",
    "    plt.scatter(range(len(slops)), slops[:,1], label='Y Slop')\n",
    "    plt.legend()\n",
    "    plt.xlabel('point id')\n",
    "    plt.ylabel('Slop')\n",
    "    plt.title(\"Slops between real and simulated points\")\n",
    "    plt.xlim(0, 120)\n",
    "    plt.ylim(-0.25, 0.05)\n",
    "    if show:\n",
    "        plt.show()\n",
    "        \n",
    "    if save: \n",
    "        plt.savefig(os.path.join(video_dir, f'images/slops_unadjusteed_{frame_id}.png'));\n",
    "\n"
   ]
  },
  {
   "cell_type": "code",
   "execution_count": 183,
   "id": "d9452460",
   "metadata": {},
   "outputs": [],
   "source": [
    "slops = np.array(slops)\n",
    "n = np.array(slops).shape[0]\n",
    "# Create a lower triangular matrix with 1's\n",
    "lower_triangular_matrix = np.tril(np.ones((n, n)))"
   ]
  },
  {
   "cell_type": "code",
   "execution_count": null,
   "id": "3b47015a",
   "metadata": {},
   "outputs": [],
   "source": []
  },
  {
   "cell_type": "code",
   "execution_count": 184,
   "id": "e1031c21",
   "metadata": {},
   "outputs": [],
   "source": [
    "x_slops = np.matmul(np.linalg.inv(lower_triangular_matrix),slops[:,0])\n",
    "y_slops = np.matmul(np.linalg.inv(lower_triangular_matrix),slops[:,1])"
   ]
  },
  {
   "cell_type": "code",
   "execution_count": 212,
   "id": "786b9ca6",
   "metadata": {},
   "outputs": [],
   "source": [
    "def plot_slops_adjusted(x_slops, y_slops, frame_id, show=False, save=False,video_dir=video_dir):\n",
    "    plt.figure(figsize=(10, 10))\n",
    "    plt.scatter(range(len(x_slops)), x_slops, label='X Slop')\n",
    "    plt.scatter(range(len(y_slops)), y_slops, label='Y Slop')\n",
    "    plt.legend()\n",
    "    plt.xlabel('point id')\n",
    "    plt.ylabel('Slop')\n",
    "    plt.title(\"Slops between real and simulated points\")\n",
    "    plt.xlim(0, 120)\n",
    "    plt.ylim(-0.05, 0.05)\n",
    "    if show:\n",
    "        plt.show()\n",
    "        \n",
    "    if save: \n",
    "        plt.savefig(os.path.join(video_dir, f'images/slops_adjusted_{frame_id}.png'));"
   ]
  },
  {
   "cell_type": "code",
   "execution_count": null,
   "id": "2a76466f",
   "metadata": {},
   "outputs": [],
   "source": [
    "center_points[:3,:]"
   ]
  },
  {
   "cell_type": "code",
   "execution_count": null,
   "id": "e3b8230b",
   "metadata": {},
   "outputs": [],
   "source": [
    "grouped_points_real[0]"
   ]
  },
  {
   "cell_type": "code",
   "execution_count": 213,
   "id": "98e2f2f6",
   "metadata": {},
   "outputs": [],
   "source": [
    "def get_active_nodes(df, frame, angle_diff_threshold=5.0):\n",
    "    first_positions = np.asarray([[float(df.iloc[0,1:][i].replace('(','').replace(')','').split(',')[0]), float(df.iloc[0,1:][i].replace('(','').replace(')','').split(',')[1])] for i in range(df.shape[1]-1)])\n",
    "    first_positions = first_positions[first_positions[:,0].argsort()]\n",
    "\n",
    "    last_positions = np.asarray([[float(df.iloc[frame,1:][i].replace('(','').replace(')','').split(',')[0]), float(df.iloc[frame,1:][i].replace('(','').replace(')','').split(',')[1])] for i in range(df.shape[1]-1)])\n",
    "    last_positions = last_positions[last_positions[:,0].argsort()]\n",
    "\n",
    "    grouped_points_real_first, _ = group_points(first_positions, 1.055e-2)\n",
    "    grouped_points_real_last, _ = group_points(last_positions, 1.055e-2)\n",
    "    \n",
    "    active_units = []\n",
    "    for i, (unit_first, unit_last) in enumerate(zip(grouped_points_real_first, grouped_points_real_last)):\n",
    "        if any(p is None for p in unit_first['points'][0:4:3]) or any(p is None for p in unit_last['points'][0:4:3]):\n",
    "            continue\n",
    "        angle_first = angle_between_points(unit_first['points'][0], unit_first['center'], unit_first['points'][-1])\n",
    "        angle_last = angle_between_points(unit_last['points'][0], unit_last['center'], unit_last['points'][-1])\n",
    "        angle_diff = abs(angle_last - angle_first)\n",
    "            \n",
    "        if angle_diff > angle_diff_threshold:\n",
    "            active_units.append(i)\n",
    "            \n",
    "    return active_units"
   ]
  },
  {
   "cell_type": "code",
   "execution_count": null,
   "id": "dea7eee0",
   "metadata": {},
   "outputs": [],
   "source": [
    "if not os.path.exists(os.path.join(video_dir, 'images')):\n",
    "    os.makedirs(os.path.join(video_dir, 'images'))\n",
    "for frame in range(df.shape[0]):\n",
    "    positions = np.asarray([[float(df.iloc[frame,1:][i].replace('(','').replace(')','').split(',')[0]), float(df.iloc[frame,1:][i].replace('(','').replace(')','').split(',')[1])] for i in range(df.shape[1]-1)])\n",
    "    \n",
    "    # get the 3 points with the smallest x values\n",
    "    sorted_positions = positions[positions[:,0].argsort()]\n",
    "    \n",
    "    center_pos = sorted_positions[1, 1]\n",
    "    \n",
    "    center_points = [p for p in sorted_positions if np.linalg.norm(p[1]-center_pos) <= 5e-3]\n",
    "\n",
    "    grouped_points_real, adj_mat = group_points(sorted_positions, 1.055e-2)\n",
    "    angle = angle_between_points(grouped_points_real[0]['points'][0], grouped_points_real[0]['center'], grouped_points_real[0]['points'][-1])\n",
    "    length = np.linalg.norm(sorted_positions[0] - sorted_positions[1])*2\n",
    "    # Define parameters for the scissor mechanism\n",
    "    link_length = length # Length of each scissor link\n",
    "    angle = 180-angle  # Angle between scissor arms\n",
    "    offset_position = sorted_positions[1,:]  # Starting position of the first scissor center\n",
    "    offset_rotation = offset_angle  # No rotation applied to the entire scissor mechanism\n",
    "    num_cells = 23  # Number of scissor units\n",
    "\n",
    "    # Create the scissor mechanism and display positions\n",
    "    scissor = ScissorMechanism(link_length, angle, offset_position, offset_rotation, num_cells)\n",
    "    \n",
    "    scissor_positions = scissor.calculate_endpoints()\n",
    "    slops = []\n",
    "    for i, (real_unit, sim_unit) in enumerate(zip(grouped_points_real, scissor_positions)):\n",
    "        x_slop = real_unit['center'][0] - sim_unit['center'][0]\n",
    "        y_slop = real_unit['center'][1] - sim_unit['center'][1]\n",
    "        slops.append([x_slop, y_slop])\n",
    "        \n",
    "        if i == 0:\n",
    "            for endpoint_real, endpoint_sim in zip(real_unit['points'], sim_unit['points']):\n",
    "            \n",
    "                if endpoint_real is None or endpoint_sim is None:\n",
    "                    continue\n",
    "                x_slop = endpoint_real[0] - endpoint_sim[0]\n",
    "                y_slop = endpoint_real[1] - endpoint_sim[1]\n",
    "                slops.append([x_slop, y_slop])\n",
    "        else:\n",
    "            for endpoint_real, endpoint_sim in zip(real_unit['points'][0:4:2], sim_unit['points'][0:4:2]):\n",
    "\n",
    "                #only do top right and bottom right\n",
    "                \n",
    "                if endpoint_real is None or endpoint_sim is None:\n",
    "                    continue\n",
    "                x_slop = endpoint_real[0] - endpoint_sim[0]\n",
    "                y_slop = endpoint_real[1] - endpoint_sim[1]\n",
    "                slops.append([x_slop, y_slop])\n",
    "\n",
    "    \n",
    "    slops = np.array(slops)\n",
    "            \n",
    "    n = slops.shape[0]\n",
    "    # Create a lower triangular matrix with 1's\n",
    "    # lower_triangular_matrix = np.tril(np.ones((n, n)))\n",
    "    lower_triangular_matrix = np.tril(adj_mat)\n",
    "    # print(lower_triangular_matrix.shape)\n",
    "    # print(slops.shape)\n",
    "    try:\n",
    "        x_slops = np.matmul(np.linalg.inv(lower_triangular_matrix),slops[:,0])\n",
    "        y_slops = np.matmul(np.linalg.inv(lower_triangular_matrix),slops[:,1])\n",
    "    except:\n",
    "        print(lower_triangular_matrix.shape)\n",
    "        print(slops.shape)\n",
    "         \n",
    "    active_units = get_active_nodes(df, frame, angle_diff_threshold=5.0)\n",
    "    active_units = [active_units[i] for i in range(len(active_units)) if (active_units[i]-active_units[i-1] == 1 or i == 0) and (active_units[i]-active_units[i-2] == 2 or i <= 1)]\n",
    "    \n",
    "    plot_real_v_sim(scissor_positions, grouped_points_real, frame_id=frame, save=True, video_dir=video_dir, active_units=active_units);\n",
    "    plot_slops_unadjusted(slops, frame_id=frame, save=True, video_dir=video_dir);\n",
    "    plot_slops_adjusted(x_slops, y_slops, frame_id=frame, save=True, video_dir=video_dir);\n",
    "        "
   ]
  },
  {
   "cell_type": "code",
   "execution_count": null,
   "id": "92269195",
   "metadata": {},
   "outputs": [],
   "source": [
    "active_units = get_active_nodes(df, -1, angle_diff_threshold=5.0)\n",
    "active_units = [active_units[i] for i in range(len(active_units)) if (active_units[i]-active_units[i-1] == 1 or i == 0) and (active_units[i]-active_units[i-2] == 2 or i <= 1)]\n",
    "\n",
    "print(f\"Active units: {active_units}\")"
   ]
  },
  {
   "cell_type": "code",
   "execution_count": null,
   "id": "7e788c6b",
   "metadata": {},
   "outputs": [],
   "source": [
    "y_slops"
   ]
  },
  {
   "cell_type": "code",
   "execution_count": null,
   "id": "4ca7cbfa",
   "metadata": {},
   "outputs": [],
   "source": [
    "# frame = 0\n",
    "# first_positions = np.asarray([[float(df.iloc[frame,1:][i].replace('(','').replace(')','').split(',')[0]), float(df.iloc[frame,1:][i].replace('(','').replace(')','').split(',')[1])] for i in range(df.shape[1]-1)])\n",
    "# first_positions = first_positions[first_positions[:,0].argsort()]\n",
    "\n",
    "# frame = -1 \n",
    "# last_positions = np.asarray([[float(df.iloc[frame,1:][i].replace('(','').replace(')','').split(',')[0]), float(df.iloc[frame,1:][i].replace('(','').replace(')','').split(',')[1])] for i in range(df.shape[1]-1)])\n",
    "# last_positions = last_positions[last_positions[:,0].argsort()]\n",
    "\n",
    "# grouped_points_real_first, adj_mat = group_points(first_positions, 1.055e-2)\n",
    "# grouped_points_real_last, adj_mat = group_points(last_positions, 1.055e-2)\n",
    "# plot_real_v_sim(grouped_points_real_first[0:2], grouped_points_real_last[0:2], frame_id=frame, save=False, video_dir=video_dir)\n",
    "# for i, (unit_first, unit_last) in enumerate(zip(grouped_points_real_first, grouped_points_real_last)):\n",
    "#     if any(p is None for p in unit_first['points'][0:4:3]) or any(p is None for p in unit_last['points'][0:4:3]):\n",
    "#         continue\n",
    "#     angle_first = angle_between_points(unit_first['points'][0], unit_first['center'], unit_first['points'][-1])\n",
    "#     angle_last = angle_between_points(unit_last['points'][0], unit_last['center'], unit_last['points'][-1])\n",
    "#     angle_diff = abs(angle_last - angle_first)\n",
    "#     print(i)\n",
    "#     print(angle_first)\n",
    "#     print(angle_last)\n",
    "#     print(angle_diff)\n",
    "    \n",
    "#     if angle_diff > 5:\n",
    "#         print(f\"Scissor unit {i} with center at {unit_first['center']} has an angle difference of {angle_diff:.2f} degrees between the first and last frames\")"
   ]
  },
  {
   "cell_type": "code",
   "execution_count": null,
   "id": "b2a47017",
   "metadata": {},
   "outputs": [],
   "source": [
    "import re\n",
    "from PIL import Image\n",
    "import glob\n",
    "if not os.path.exists(os.path.join(video_dir, 'gifs')):\n",
    "    os.makedirs(os.path.join(video_dir, 'gifs'))\n",
    "for image_type in ['scissor_mechanism', 'slops_unadjusteed', 'slops_adjusted']:\n",
    "    # Set the path pattern for the PNG images\n",
    "    png_files = glob.glob(os.path.join(video_dir, f\"images/{image_type}_*.png\"))\n",
    "\n",
    "    # Custom sorting function to sort by the numeric frame ID\n",
    "    def sort_by_frame_id(file_name):\n",
    "        # Use regular expression to extract the numeric part of the file name\n",
    "        match = re.search(r\"(\\d+).png\", file_name)\n",
    "        return int(match.group(1)) if match else 0\n",
    "\n",
    "    # Sort the files by the numeric frame ID\n",
    "    png_files_sorted = sorted(png_files, key=sort_by_frame_id)\n",
    "\n",
    "    # Load the images\n",
    "    images = [Image.open(png) for png in png_files_sorted]\n",
    "\n",
    "    # Save the images as a GIF\n",
    "    images[0].save(os.path.join(video_dir, f'gifs/{image_type}.gif'), save_all=True, append_images=images[1:], optimize=False, duration=100, loop=0)\n",
    "\n",
    "    print(f\"GIF saved as '{image_type}.gif'\")"
   ]
  },
  {
   "cell_type": "code",
   "execution_count": 232,
   "id": "9407b3c5",
   "metadata": {},
   "outputs": [
    {
     "name": "stdout",
     "output_type": "stream",
     "text": [
      "0.0009431131074313839\n",
      "0.0007153089100620982\n",
      "0.0008568868925686243\n",
      "0.0008900826172946735\n"
     ]
    }
   ],
   "source": [
    "print(np.median(abs(x_slops[1:10])))\n",
    "print(np.median(abs(y_slops[1:10])))\n",
    "print(np.mean(abs(x_slops[1:10])))\n",
    "print(np.mean(abs(y_slops[1:10])))"
   ]
  },
  {
   "cell_type": "code",
   "execution_count": 224,
   "id": "0798947c",
   "metadata": {},
   "outputs": [
    {
     "name": "stderr",
     "output_type": "stream",
     "text": [
      "/var/folders/v2/cf4mvh2j6yd2lg8yxjqx4vr00000gn/T/ipykernel_66503/3137772310.py:1: FutureWarning: Series.__getitem__ treating keys as positions is deprecated. In a future version, integer keys will always be treated as labels (consistent with DataFrame behavior). To access a value by position, use `ser.iloc[pos]`\n",
      "  first_positions = np.asarray([[float(df.iloc[0,1:][i].replace('(','').replace(')','').split(',')[0]), float(df.iloc[0,1:][i].replace('(','').replace(')','').split(',')[1])] for i in range(df.shape[1]-1)])\n"
     ]
    }
   ],
   "source": [
    "first_positions = np.asarray([[float(df.iloc[0,1:][i].replace('(','').replace(')','').split(',')[0]), float(df.iloc[0,1:][i].replace('(','').replace(')','').split(',')[1])] for i in range(df.shape[1]-1)])\n",
    "first_positions = first_positions[first_positions[:,0].argsort()]\n",
    "angle = angle_between_points(first_positions[0], first_positions[1], first_positions[2])"
   ]
  },
  {
   "cell_type": "code",
   "execution_count": 228,
   "id": "f714f849",
   "metadata": {},
   "outputs": [
    {
     "data": {
      "text/plain": [
       "np.float64(2.4824251646528257)"
      ]
     },
     "execution_count": 228,
     "metadata": {},
     "output_type": "execute_result"
    }
   ],
   "source": [
    "np.pi-np.deg2rad(angle)"
   ]
  },
  {
   "cell_type": "code",
   "execution_count": 231,
   "id": "e6606ce0",
   "metadata": {},
   "outputs": [
    {
     "name": "stdout",
     "output_type": "stream",
     "text": [
      "[4.56886893e-04 1.10000000e-03 2.13773785e-04 1.92754757e-03\n",
      " 4.43113107e-04 9.43113107e-04 1.64132136e-03 4.31131074e-05\n",
      " 9.43113107e-04]\n",
      "[0.00015765 0.00071531 0.         0.00071531 0.00025765 0.00127296\n",
      " 0.00123062 0.00017296 0.00348827]\n"
     ]
    }
   ],
   "source": [
    "print(abs(x_slops[1:10]))\n",
    "print(abs(y_slops[1:10]))"
   ]
  },
  {
   "cell_type": "code",
   "execution_count": null,
   "id": "294a7c8c",
   "metadata": {},
   "outputs": [],
   "source": []
  }
 ],
 "metadata": {
  "kernelspec": {
   "display_name": "Python 3 (ipykernel)",
   "language": "python",
   "name": "python3"
  },
  "language_info": {
   "codemirror_mode": {
    "name": "ipython",
    "version": 3
   },
   "file_extension": ".py",
   "mimetype": "text/x-python",
   "name": "python",
   "nbconvert_exporter": "python",
   "pygments_lexer": "ipython3",
   "version": "3.9.20"
  },
  "vscode": {
   "interpreter": {
    "hash": "5c3af07c9b62e9e5a46520c50c603ac08cca123627f098bd5ae6d6af0e7d15f9"
   }
  }
 },
 "nbformat": 4,
 "nbformat_minor": 5
}
